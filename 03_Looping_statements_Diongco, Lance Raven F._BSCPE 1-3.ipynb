{
 "cells": [
  {
   "cell_type": "markdown",
   "id": "cc005ddd-32ee-4a01-bb14-12539e07438d",
   "metadata": {},
   "source": [
    "# Laboratory 2: Exercises\n",
    "#### Programmed by: Diongco, Lance Raven F.\n",
    "#### Course, Year, & Section: BSCPE 1-3\n",
    "#### Instructor: Engr. Godofredo T. Avena\n",
    "##### Date Submitted: September 26, 2024"
   ]
  },
  {
   "cell_type": "markdown",
   "id": "42ce8e3c",
   "metadata": {},
   "source": [
    "## Lab 2 Exercise 1\n",
    "#### A teacher named Mrs. Rivera who loved making math fun for her students. One day, a student named Mia asked how to calculate powers, like (2^7). Mrs. Rivera explained, “Imagine you need to multiply 2 by itself seven times. We can solve this using a python code utilizing  special method called recursion to solve this,” \n",
    "### Can you help the class of Mrs. Rivera by providing the recursive method to calculate powers?"
   ]
  },
  {
   "cell_type": "code",
   "execution_count": 5,
   "id": "2cc53743-6c1c-4fe1-b492-1d00607b3e1e",
   "metadata": {},
   "outputs": [
    {
     "name": "stdin",
     "output_type": "stream",
     "text": [
      "Input your base number >>  2\n",
      "Input your exponent >>  7\n"
     ]
    },
    {
     "name": "stdout",
     "output_type": "stream",
     "text": [
      "The computed result is: 128\n"
     ]
    }
   ],
   "source": [
    "def compute_power(result, power, base = 0):\n",
    "    if power > 1:                           \n",
    "        if base == 0:                 #--Makes the base equal to the result for the first iteration\n",
    "            base = result\n",
    "        new_result = result * base        #--Generates a new result\n",
    "        new_power = power - 1               #--Decrements the power by 1\n",
    "        compute_power(result = new_result, power= new_power, base = base)     #--Reuses the function with new values from the previous function\n",
    "    elif power == 1:\n",
    "        print(f\"The computed result is: {result}\")      #--Ouputs the result\n",
    "    elif power == 0:\n",
    "        print(\"The computed result is: 1\")              #--Handles bases raised to 0\n",
    "\n",
    "base = int(input(\"Input your base number >> \"))\n",
    "exponent = int(input(\"Input your exponent >> \"))\n",
    "\n",
    "compute_power(base, exponent)"
   ]
  },
  {
   "cell_type": "markdown",
   "id": "a688d481",
   "metadata": {},
   "source": [
    "## Lab 2 Exercise 2\n",
    "#### Compute for the cube of integers. "
   ]
  },
  {
   "cell_type": "code",
   "execution_count": 1,
   "id": "a7caf9dc",
   "metadata": {},
   "outputs": [
    {
     "name": "stdin",
     "output_type": "stream",
     "text": [
      "Enter the size:  3\n",
      "Enter the elements separated by space:  3 10 20\n"
     ]
    },
    {
     "name": "stdout",
     "output_type": "stream",
     "text": [
      "27\n",
      "1000\n",
      "8000\n"
     ]
    }
   ],
   "source": [
    "def compute_cube(number):                   #--Function that computes and returns the cube of the given argument\n",
    "    return number * number * number\n",
    "\n",
    "array_size = int(input(\"Enter the size: \"))\n",
    "array_list = input(\"Enter the elements separated by space: \").split(\" \")        #--Makes the input into a list\n",
    "\n",
    "if array_size == len(array_list):           #--Checks if the size aligns with the number of items in the list\n",
    "    for item in array_list:\n",
    "        print(compute_cube(int(item)))      #--Computes for the cube of each item from the list\n",
    "else:\n",
    "    print(\"! Error: Array size should be equal to the number of elements !\")"
   ]
  },
  {
   "cell_type": "markdown",
   "id": "2f62f2ae",
   "metadata": {},
   "source": [
    "## Lab 2 Exercise 3\n",
    "#### Generate a hollow square based on the + integer input side length n."
   ]
  },
  {
   "cell_type": "code",
   "execution_count": 1,
   "id": "e29024d0",
   "metadata": {},
   "outputs": [
    {
     "name": "stdin",
     "output_type": "stream",
     "text": [
      "Enter the side length of the square:  7\n"
     ]
    },
    {
     "name": "stdout",
     "output_type": "stream",
     "text": [
      "*******\n",
      "*     *\n",
      "*     *\n",
      "*     *\n",
      "*     *\n",
      "*     *\n",
      "*******\n"
     ]
    }
   ],
   "source": [
    "length = int(input(\"Enter the side length of the square: \"))\n",
    "for i in range(1, length + 1):\n",
    "    if i == 1:\n",
    "        print(\"*\" * length)                     #--Prints the top part of the square\n",
    "    elif i == length:\n",
    "        print(\"*\" * length)                     #--Prints the bottom part of the square\n",
    "    else:\n",
    "        print(f\"*{\" \" * (length - 2)}*\")        #--Hollows the area of the square"
   ]
  },
  {
   "cell_type": "markdown",
   "id": "4b2890ba",
   "metadata": {},
   "source": [
    "## Lab 2 Exercise 4\n",
    "#### Generate an inverted right triangle of height n."
   ]
  },
  {
   "cell_type": "code",
   "execution_count": 3,
   "id": "935b415b",
   "metadata": {},
   "outputs": [
    {
     "name": "stdin",
     "output_type": "stream",
     "text": [
      "Input the height of the triangle:  7\n"
     ]
    },
    {
     "name": "stdout",
     "output_type": "stream",
     "text": [
      "*******\n",
      "******\n",
      "*****\n",
      "****\n",
      "***\n",
      "**\n",
      "*\n"
     ]
    }
   ],
   "source": [
    "height = int(input(\"Input the height of the triangle: \"))\n",
    "for column in reversed(range(1, height + 1)):       #--Generates the columns and reverses the range\n",
    "    for row in range(column):                       #--Generates the rows\n",
    "        print(\"*\", end=\"\")                          #--Prints the right triangle\n",
    "    print()"
   ]
  }
 ],
 "metadata": {
  "kernelspec": {
   "display_name": "Python 3 (ipykernel)",
   "language": "python",
   "name": "python3"
  },
  "language_info": {
   "codemirror_mode": {
    "name": "ipython",
    "version": 3
   },
   "file_extension": ".py",
   "mimetype": "text/x-python",
   "name": "python",
   "nbconvert_exporter": "python",
   "pygments_lexer": "ipython3",
   "version": "3.12.2"
  }
 },
 "nbformat": 4,
 "nbformat_minor": 5
}
